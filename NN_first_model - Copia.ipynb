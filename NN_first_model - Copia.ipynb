version https://git-lfs.github.com/spec/v1
oid sha256:caba08f27a3942fa437601bd843baaf3595cc3b0189593aa515c56d70d81374c
size 21860
